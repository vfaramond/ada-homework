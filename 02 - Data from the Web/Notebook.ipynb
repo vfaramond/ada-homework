{
 "cells": [
  {
   "cell_type": "markdown",
   "metadata": {},
   "source": [
    "# ADA - Homework 2"
   ]
  },
  {
   "cell_type": "markdown",
   "metadata": {},
   "source": [
    "### Requests\n",
    "For easily sending HTTP requests, we use [Requests](http://docs.python-requests.org/en/master/)"
   ]
  },
  {
   "cell_type": "code",
   "execution_count": 1,
   "metadata": {
    "collapsed": true
   },
   "outputs": [],
   "source": [
    "import requests"
   ]
  },
  {
   "cell_type": "markdown",
   "metadata": {},
   "source": [
    "### BeautifulSoup\n",
    "For parsing HTML content, we use [BeautifulSoup](https://www.crummy.com/software/BeautifulSoup/)"
   ]
  },
  {
   "cell_type": "code",
   "execution_count": 2,
   "metadata": {
    "collapsed": true
   },
   "outputs": [],
   "source": [
    "from bs4 import BeautifulSoup"
   ]
  },
  {
   "cell_type": "markdown",
   "metadata": {},
   "source": [
    "### Pandas and Numpy\n",
    "For data manipulation"
   ]
  },
  {
   "cell_type": "code",
   "execution_count": 3,
   "metadata": {
    "collapsed": true
   },
   "outputs": [],
   "source": [
    "import pandas as pd\n",
    "import numpy as np"
   ]
  },
  {
   "cell_type": "markdown",
   "metadata": {},
   "source": [
    "### Seaborn\n",
    "For plots and graphs"
   ]
  },
  {
   "cell_type": "code",
   "execution_count": 4,
   "metadata": {
    "collapsed": true
   },
   "outputs": [],
   "source": [
    "%matplotlib inline\n",
    "import matplotlib.pyplot as plt\n",
    "import seaborn as sns\n",
    "sns.set_context('notebook')\n",
    "sns.set_style('whitegrid')"
   ]
  },
  {
   "cell_type": "markdown",
   "metadata": {},
   "source": [
    "### Scipy\n",
    "For statistical significance tests"
   ]
  },
  {
   "cell_type": "code",
   "execution_count": 5,
   "metadata": {
    "collapsed": true
   },
   "outputs": [],
   "source": [
    "from scipy.stats import ttest_ind"
   ]
  },
  {
   "cell_type": "markdown",
   "metadata": {},
   "source": [
    "## Requesting and parsing data from IS-Academia"
   ]
  },
  {
   "cell_type": "markdown",
   "metadata": {},
   "source": [
    "We parse the first page to get all the option fields useful to make queries later "
   ]
  },
  {
   "cell_type": "code",
   "execution_count": 6,
   "metadata": {
    "collapsed": false
   },
   "outputs": [
    {
     "data": {
      "text/plain": [
       "{'ww_x_HIVERETE': {'': 'null',\n",
       "  \"Semestre d'automne\": '2936286',\n",
       "  'Semestre de printemps': '2936295'},\n",
       " 'ww_x_PERIODE_ACAD': {'': 'null',\n",
       "  '2007-2008': '978181',\n",
       "  '2008-2009': '978187',\n",
       "  '2009-2010': '978195',\n",
       "  '2010-2011': '39486325',\n",
       "  '2011-2012': '123455150',\n",
       "  '2012-2013': '123456101',\n",
       "  '2013-2014': '213637754',\n",
       "  '2014-2015': '213637922',\n",
       "  '2015-2016': '213638028',\n",
       "  '2016-2017': '355925344'},\n",
       " 'ww_x_PERIODE_PEDAGO': {'': 'null',\n",
       "  'Bachelor semestre 1': '249108',\n",
       "  'Bachelor semestre 2': '249114',\n",
       "  'Bachelor semestre 3': '942155',\n",
       "  'Bachelor semestre 4': '942163',\n",
       "  'Bachelor semestre 5': '942120',\n",
       "  'Bachelor semestre 5b': '2226768',\n",
       "  'Bachelor semestre 6': '942175',\n",
       "  'Bachelor semestre 6b': '2226785',\n",
       "  'Master semestre 1': '2230106',\n",
       "  'Master semestre 2': '942192',\n",
       "  'Master semestre 3': '2230128',\n",
       "  'Master semestre 4': '2230140',\n",
       "  'Mineur semestre 1': '2335667',\n",
       "  'Mineur semestre 2': '2335676',\n",
       "  'Mise à niveau': '2063602308',\n",
       "  'Projet Master automne': '249127',\n",
       "  'Projet Master printemps': '3781783',\n",
       "  'Semestre automne': '953159',\n",
       "  'Semestre printemps': '2754553',\n",
       "  'Stage automne 3ème année': '953137',\n",
       "  'Stage automne 4ème année': '2226616',\n",
       "  'Stage printemps 3ème année': '983606',\n",
       "  'Stage printemps 4ème année': '2226626',\n",
       "  'Stage printemps master': '2227132'},\n",
       " 'ww_x_UNITE_ACAD': {'': 'null',\n",
       "  'Architecture': '942293',\n",
       "  'Chimie et génie chimique': '246696',\n",
       "  'Cours de mathématiques spéciales': '943282',\n",
       "  'EME (EPFL Middle East)': '637841336',\n",
       "  'Génie civil': '942623',\n",
       "  'Génie mécanique': '944263',\n",
       "  'Génie électrique et électronique ': '943936',\n",
       "  'Humanités digitales': '2054839157',\n",
       "  'Informatique': '249847',\n",
       "  'Ingénierie financière': '120623110',\n",
       "  'Management de la technologie': '946882',\n",
       "  'Mathématiques': '944590',\n",
       "  'Microtechnique': '945244',\n",
       "  'Physique': '945571',\n",
       "  'Science et génie des matériaux': '944917',\n",
       "  \"Sciences et ingénierie de l'environnement\": '942953',\n",
       "  'Sciences et technologies du vivant': '945901',\n",
       "  'Section FCUE': '1574548993',\n",
       "  'Systèmes de communication': '946228'}}"
      ]
     },
     "execution_count": 6,
     "metadata": {},
     "output_type": "execute_result"
    }
   ],
   "source": [
    "r = requests.get('http://isa.epfl.ch/imoniteur_ISAP/!GEDPUBLICREPORTS.filter?&ww_i_reportmodel=133685247')\n",
    "soup = BeautifulSoup(r.text, 'html.parser')\n",
    "options = {}\n",
    "\n",
    "for option in soup.find_all('option'):\n",
    "    options[option.parent.get('name')]=options.get(option.parent.get('name'),{})\n",
    "    options[option.parent.get('name')][option.text]=option.get('value')\n",
    "\n",
    "print(options)"
   ]
  },
  {
   "cell_type": "markdown",
   "metadata": {
    "collapsed": true
   },
   "source": [
    "We define the function `get_data` using the previous object to build queries to the ISA form."
   ]
  },
  {
   "cell_type": "code",
   "execution_count": 7,
   "metadata": {
    "collapsed": false
   },
   "outputs": [],
   "source": [
    "def get_data(unite_acad,periode_acad,periode_pedago,hiverete):\n",
    "    \"\"\" Get data with specific parameters.\n",
    "    \n",
    "        Args:\n",
    "            unite_acad (str): categorical from options.ww_x_UNITE_ACAD.keys()\n",
    "            periode_acad (str): categorical from options.ww_x_PERIODE_ACAD.keys()\n",
    "            periode_pedago (str): categorical from options.ww_x_PERIODE_PEDAGO.keys()\n",
    "            hiverete (str): categorical from options.ww_x_HIVERETE.keys()\n",
    "            \n",
    "        Returns:\n",
    "            DataFrame: Pandas dataframe containing the requested data.\n",
    "            \n",
    "    \"\"\"\n",
    "    request = ('http://isa.epfl.ch/imoniteur_ISAP/!GEDPUBLICREPORTS.html?'\n",
    "        + 'ww_x_GPS=-1'\n",
    "        + '&ww_i_reportModel=133685247'\n",
    "        + '&ww_i_reportModelXsl=133685270'\n",
    "        + '&ww_x_UNITE_ACAD=' + options['ww_x_UNITE_ACAD'][unite_acad]\n",
    "        + '&ww_x_PERIODE_ACAD=' + options['ww_x_PERIODE_ACAD'][periode_acad]\n",
    "        + '&ww_x_PERIODE_PEDAGO=' + options['ww_x_PERIODE_PEDAGO'][periode_pedago]\n",
    "        + '&ww_x_HIVERETE='+ options['ww_x_HIVERETE'][hiverete]\n",
    "    )\n",
    "    soup = BeautifulSoup(requests.get(request).text, 'html.parser')\n",
    "    \n",
    "    table_lines = soup.find_all('tr')\n",
    "    columns = [th.text for th in table_lines[1].contents] if len(table_lines)>1 else []\n",
    "    nColumns = len(columns)\n",
    "    \n",
    "    data = {}\n",
    "    for name in columns:\n",
    "        data[name] = []\n",
    "    \n",
    "    for tr in table_lines[2:]:\n",
    "        content = tr.contents\n",
    "        if content[0].name=='td' :\n",
    "            for i in range(nColumns):\n",
    "                data[columns[i]].append(content[i].text)\n",
    "    \n",
    "    result = pd.DataFrame(data=data)\n",
    "    result['ww_x_UNITE_ACAD']=unite_acad\n",
    "    result['ww_x_PERIODE_ACAD']=periode_acad\n",
    "    result['ww_x_PERIODE_PEDAGO']=periode_pedago\n",
    "    result['ww_x_HIVERETE']=hiverete\n",
    "    \n",
    "    return result"
   ]
  },
  {
   "cell_type": "markdown",
   "metadata": {},
   "source": [
    "A small test for the `get_data` method"
   ]
  },
  {
   "cell_type": "code",
   "execution_count": 8,
   "metadata": {
    "collapsed": false,
    "scrolled": false
   },
   "outputs": [
    {
     "data": {
      "text/html": [
       "<div>\n",
       "<table border=\"1\" class=\"dataframe\">\n",
       "  <thead>\n",
       "    <tr style=\"text-align: right;\">\n",
       "      <th></th>\n",
       "      <th>Civilité</th>\n",
       "      <th>Ecole Echange</th>\n",
       "      <th>Filière opt.</th>\n",
       "      <th>Mineur</th>\n",
       "      <th>No Sciper</th>\n",
       "      <th>Nom Prénom</th>\n",
       "      <th>Orientation Bachelor</th>\n",
       "      <th>Orientation Master</th>\n",
       "      <th>Spécialisation</th>\n",
       "      <th>Statut</th>\n",
       "      <th>Type Echange</th>\n",
       "      <th>ww_x_UNITE_ACAD</th>\n",
       "      <th>ww_x_PERIODE_ACAD</th>\n",
       "      <th>ww_x_PERIODE_PEDAGO</th>\n",
       "      <th>ww_x_HIVERETE</th>\n",
       "    </tr>\n",
       "  </thead>\n",
       "  <tbody>\n",
       "    <tr>\n",
       "      <th>0</th>\n",
       "      <td>Monsieur</td>\n",
       "      <td></td>\n",
       "      <td></td>\n",
       "      <td></td>\n",
       "      <td>169569</td>\n",
       "      <td>Arévalo Christian</td>\n",
       "      <td></td>\n",
       "      <td></td>\n",
       "      <td></td>\n",
       "      <td>Présent</td>\n",
       "      <td></td>\n",
       "      <td>Informatique</td>\n",
       "      <td>2007-2008</td>\n",
       "      <td>Bachelor semestre 1</td>\n",
       "      <td>Semestre d'automne</td>\n",
       "    </tr>\n",
       "    <tr>\n",
       "      <th>1</th>\n",
       "      <td>Monsieur</td>\n",
       "      <td></td>\n",
       "      <td></td>\n",
       "      <td></td>\n",
       "      <td>174905</td>\n",
       "      <td>Aubelle Flavien</td>\n",
       "      <td></td>\n",
       "      <td></td>\n",
       "      <td></td>\n",
       "      <td>Présent</td>\n",
       "      <td></td>\n",
       "      <td>Informatique</td>\n",
       "      <td>2007-2008</td>\n",
       "      <td>Bachelor semestre 1</td>\n",
       "      <td>Semestre d'automne</td>\n",
       "    </tr>\n",
       "    <tr>\n",
       "      <th>2</th>\n",
       "      <td>Monsieur</td>\n",
       "      <td></td>\n",
       "      <td></td>\n",
       "      <td></td>\n",
       "      <td>173922</td>\n",
       "      <td>Badoud Morgan</td>\n",
       "      <td></td>\n",
       "      <td></td>\n",
       "      <td></td>\n",
       "      <td>Présent</td>\n",
       "      <td></td>\n",
       "      <td>Informatique</td>\n",
       "      <td>2007-2008</td>\n",
       "      <td>Bachelor semestre 1</td>\n",
       "      <td>Semestre d'automne</td>\n",
       "    </tr>\n",
       "    <tr>\n",
       "      <th>3</th>\n",
       "      <td>Monsieur</td>\n",
       "      <td></td>\n",
       "      <td></td>\n",
       "      <td></td>\n",
       "      <td>179406</td>\n",
       "      <td>Baeriswyl Jonathan</td>\n",
       "      <td></td>\n",
       "      <td></td>\n",
       "      <td></td>\n",
       "      <td>Présent</td>\n",
       "      <td></td>\n",
       "      <td>Informatique</td>\n",
       "      <td>2007-2008</td>\n",
       "      <td>Bachelor semestre 1</td>\n",
       "      <td>Semestre d'automne</td>\n",
       "    </tr>\n",
       "    <tr>\n",
       "      <th>4</th>\n",
       "      <td>Monsieur</td>\n",
       "      <td></td>\n",
       "      <td></td>\n",
       "      <td></td>\n",
       "      <td>179428</td>\n",
       "      <td>Barroco Michael</td>\n",
       "      <td></td>\n",
       "      <td></td>\n",
       "      <td></td>\n",
       "      <td>Présent</td>\n",
       "      <td></td>\n",
       "      <td>Informatique</td>\n",
       "      <td>2007-2008</td>\n",
       "      <td>Bachelor semestre 1</td>\n",
       "      <td>Semestre d'automne</td>\n",
       "    </tr>\n",
       "  </tbody>\n",
       "</table>\n",
       "</div>"
      ],
      "text/plain": [
       "   Civilité Ecole Echange Filière opt. Mineur No Sciper          Nom Prénom  \\\n",
       "0  Monsieur                                      169569   Arévalo Christian   \n",
       "1  Monsieur                                      174905     Aubelle Flavien   \n",
       "2  Monsieur                                      173922       Badoud Morgan   \n",
       "3  Monsieur                                      179406  Baeriswyl Jonathan   \n",
       "4  Monsieur                                      179428     Barroco Michael   \n",
       "\n",
       "  Orientation Bachelor Orientation Master Spécialisation   Statut  \\\n",
       "0                                                         Présent   \n",
       "1                                                         Présent   \n",
       "2                                                         Présent   \n",
       "3                                                         Présent   \n",
       "4                                                         Présent   \n",
       "\n",
       "  Type Echange ww_x_UNITE_ACAD ww_x_PERIODE_ACAD  ww_x_PERIODE_PEDAGO  \\\n",
       "0                 Informatique         2007-2008  Bachelor semestre 1   \n",
       "1                 Informatique         2007-2008  Bachelor semestre 1   \n",
       "2                 Informatique         2007-2008  Bachelor semestre 1   \n",
       "3                 Informatique         2007-2008  Bachelor semestre 1   \n",
       "4                 Informatique         2007-2008  Bachelor semestre 1   \n",
       "\n",
       "        ww_x_HIVERETE  \n",
       "0  Semestre d'automne  \n",
       "1  Semestre d'automne  \n",
       "2  Semestre d'automne  \n",
       "3  Semestre d'automne  \n",
       "4  Semestre d'automne  "
      ]
     },
     "execution_count": 8,
     "metadata": {},
     "output_type": "execute_result"
    }
   ],
   "source": [
    "get_data(\n",
    "    'Informatique',\n",
    "    '2007-2008',\n",
    "    'Bachelor semestre 1',\n",
    "    \"Semestre d'automne\"\n",
    ").head()"
   ]
  },
  {
   "cell_type": "markdown",
   "metadata": {},
   "source": [
    "We define a function `get_all_data`, taking lists of arguments to feed to the previous `get_data` function and returning the concatenated dataframe."
   ]
  },
  {
   "cell_type": "code",
   "execution_count": 9,
   "metadata": {
    "collapsed": false
   },
   "outputs": [],
   "source": [
    "def get_all_data(unite_acads,periode_acads,periode_pedagos,hiveretes):\n",
    "    \"\"\" Get data with specific parameters.\n",
    "    \n",
    "        Args:\n",
    "            unite_acads ([str]): array of categoricals from options.ww_x_UNITE_ACAD.keys()\n",
    "            periode_acads ([str]): array of categoricals from options.ww_x_PERIODE_ACAD.keys()\n",
    "            periode_pedagos ([str]): array of categoricals from options.ww_x_PERIODE_PEDAGO.keys()\n",
    "            hiveretes ([str]): array of categoricals from options.ww_x_HIVERETE.keys()\n",
    "            \n",
    "        Returns:\n",
    "            DataFrame: Pandas dataframe containing the requested data.\n",
    "            \n",
    "    \"\"\"\n",
    "    result = pd.DataFrame({})\n",
    "    for unite_acad in unite_acads:\n",
    "        for periode_acad in periode_acads:\n",
    "            for periode_pedago in periode_pedagos:\n",
    "                for hiverete in hiveretes:\n",
    "                    result = pd.concat([result,get_data(unite_acad,periode_acad,periode_pedago,hiverete)])\n",
    "    return result"
   ]
  },
  {
   "cell_type": "markdown",
   "metadata": {},
   "source": [
    "## Question 1"
   ]
  },
  {
   "cell_type": "markdown",
   "metadata": {},
   "source": [
    "### Importing the data\n",
    "Uses the function `get_all_data`"
   ]
  },
  {
   "cell_type": "code",
   "execution_count": 10,
   "metadata": {
    "collapsed": false,
    "scrolled": true
   },
   "outputs": [],
   "source": [
    "df_bachelor = get_all_data(\n",
    "    ['Informatique'],\n",
    "    ['2007-2008','2008-2009','2009-2010','2010-2011','2011-2012','2012-2013','2013-2014','2014-2015','2015-2016','2016-2017'],\n",
    "    ['Bachelor semestre 1','Bachelor semestre 2','Bachelor semestre 3','Bachelor semestre 4','Bachelor semestre 5','Bachelor semestre 6','Bachelor semestre 5b','Bachelor semestre 6b'],\n",
    "    [\"Semestre d'automne\",'Semestre de printemps']\n",
    ")"
   ]
  },
  {
   "cell_type": "code",
   "execution_count": 11,
   "metadata": {
    "collapsed": false
   },
   "outputs": [
    {
     "name": "stdout",
     "output_type": "stream",
     "text": [
      "(5808, 15)\n"
     ]
    },
    {
     "data": {
      "text/html": [
       "<div>\n",
       "<table border=\"1\" class=\"dataframe\">\n",
       "  <thead>\n",
       "    <tr style=\"text-align: right;\">\n",
       "      <th></th>\n",
       "      <th>Civilité</th>\n",
       "      <th>Ecole Echange</th>\n",
       "      <th>Filière opt.</th>\n",
       "      <th>Mineur</th>\n",
       "      <th>No Sciper</th>\n",
       "      <th>Nom Prénom</th>\n",
       "      <th>Orientation Bachelor</th>\n",
       "      <th>Orientation Master</th>\n",
       "      <th>Spécialisation</th>\n",
       "      <th>Statut</th>\n",
       "      <th>Type Echange</th>\n",
       "      <th>ww_x_HIVERETE</th>\n",
       "      <th>ww_x_PERIODE_ACAD</th>\n",
       "      <th>ww_x_PERIODE_PEDAGO</th>\n",
       "      <th>ww_x_UNITE_ACAD</th>\n",
       "    </tr>\n",
       "  </thead>\n",
       "  <tbody>\n",
       "    <tr>\n",
       "      <th>0</th>\n",
       "      <td>Monsieur</td>\n",
       "      <td></td>\n",
       "      <td></td>\n",
       "      <td></td>\n",
       "      <td>169569</td>\n",
       "      <td>Arévalo Christian</td>\n",
       "      <td></td>\n",
       "      <td></td>\n",
       "      <td></td>\n",
       "      <td>Présent</td>\n",
       "      <td></td>\n",
       "      <td>Semestre d'automne</td>\n",
       "      <td>2007-2008</td>\n",
       "      <td>Bachelor semestre 1</td>\n",
       "      <td>Informatique</td>\n",
       "    </tr>\n",
       "    <tr>\n",
       "      <th>1</th>\n",
       "      <td>Monsieur</td>\n",
       "      <td></td>\n",
       "      <td></td>\n",
       "      <td></td>\n",
       "      <td>174905</td>\n",
       "      <td>Aubelle Flavien</td>\n",
       "      <td></td>\n",
       "      <td></td>\n",
       "      <td></td>\n",
       "      <td>Présent</td>\n",
       "      <td></td>\n",
       "      <td>Semestre d'automne</td>\n",
       "      <td>2007-2008</td>\n",
       "      <td>Bachelor semestre 1</td>\n",
       "      <td>Informatique</td>\n",
       "    </tr>\n",
       "    <tr>\n",
       "      <th>2</th>\n",
       "      <td>Monsieur</td>\n",
       "      <td></td>\n",
       "      <td></td>\n",
       "      <td></td>\n",
       "      <td>173922</td>\n",
       "      <td>Badoud Morgan</td>\n",
       "      <td></td>\n",
       "      <td></td>\n",
       "      <td></td>\n",
       "      <td>Présent</td>\n",
       "      <td></td>\n",
       "      <td>Semestre d'automne</td>\n",
       "      <td>2007-2008</td>\n",
       "      <td>Bachelor semestre 1</td>\n",
       "      <td>Informatique</td>\n",
       "    </tr>\n",
       "    <tr>\n",
       "      <th>3</th>\n",
       "      <td>Monsieur</td>\n",
       "      <td></td>\n",
       "      <td></td>\n",
       "      <td></td>\n",
       "      <td>179406</td>\n",
       "      <td>Baeriswyl Jonathan</td>\n",
       "      <td></td>\n",
       "      <td></td>\n",
       "      <td></td>\n",
       "      <td>Présent</td>\n",
       "      <td></td>\n",
       "      <td>Semestre d'automne</td>\n",
       "      <td>2007-2008</td>\n",
       "      <td>Bachelor semestre 1</td>\n",
       "      <td>Informatique</td>\n",
       "    </tr>\n",
       "    <tr>\n",
       "      <th>4</th>\n",
       "      <td>Monsieur</td>\n",
       "      <td></td>\n",
       "      <td></td>\n",
       "      <td></td>\n",
       "      <td>179428</td>\n",
       "      <td>Barroco Michael</td>\n",
       "      <td></td>\n",
       "      <td></td>\n",
       "      <td></td>\n",
       "      <td>Présent</td>\n",
       "      <td></td>\n",
       "      <td>Semestre d'automne</td>\n",
       "      <td>2007-2008</td>\n",
       "      <td>Bachelor semestre 1</td>\n",
       "      <td>Informatique</td>\n",
       "    </tr>\n",
       "  </tbody>\n",
       "</table>\n",
       "</div>"
      ],
      "text/plain": [
       "   Civilité Ecole Echange Filière opt. Mineur No Sciper          Nom Prénom  \\\n",
       "0  Monsieur                                      169569   Arévalo Christian   \n",
       "1  Monsieur                                      174905     Aubelle Flavien   \n",
       "2  Monsieur                                      173922       Badoud Morgan   \n",
       "3  Monsieur                                      179406  Baeriswyl Jonathan   \n",
       "4  Monsieur                                      179428     Barroco Michael   \n",
       "\n",
       "  Orientation Bachelor Orientation Master Spécialisation   Statut  \\\n",
       "0                                                         Présent   \n",
       "1                                                         Présent   \n",
       "2                                                         Présent   \n",
       "3                                                         Présent   \n",
       "4                                                         Présent   \n",
       "\n",
       "  Type Echange       ww_x_HIVERETE ww_x_PERIODE_ACAD  ww_x_PERIODE_PEDAGO  \\\n",
       "0               Semestre d'automne         2007-2008  Bachelor semestre 1   \n",
       "1               Semestre d'automne         2007-2008  Bachelor semestre 1   \n",
       "2               Semestre d'automne         2007-2008  Bachelor semestre 1   \n",
       "3               Semestre d'automne         2007-2008  Bachelor semestre 1   \n",
       "4               Semestre d'automne         2007-2008  Bachelor semestre 1   \n",
       "\n",
       "  ww_x_UNITE_ACAD  \n",
       "0    Informatique  \n",
       "1    Informatique  \n",
       "2    Informatique  \n",
       "3    Informatique  \n",
       "4    Informatique  "
      ]
     },
     "execution_count": 11,
     "metadata": {},
     "output_type": "execute_result"
    }
   ],
   "source": [
    "print(df_bachelor.shape)\n",
    "df_bachelor.head()"
   ]
  },
  {
   "cell_type": "markdown",
   "metadata": {},
   "source": [
    "### Exploring the data"
   ]
  },
  {
   "cell_type": "markdown",
   "metadata": {},
   "source": [
    "We do not know what are Bachelor semestre 5b and 6b, so we wanted to have a look at it, but these fields are empty."
   ]
  },
  {
   "cell_type": "code",
   "execution_count": 12,
   "metadata": {
    "collapsed": false
   },
   "outputs": [
    {
     "name": "stdout",
     "output_type": "stream",
     "text": [
      "(0, 15)\n",
      "(0, 15)\n"
     ]
    }
   ],
   "source": [
    "print(df_bachelor[df_bachelor.ww_x_PERIODE_PEDAGO == 'Bachelor semestre 6b'].shape)\n",
    "print(df_bachelor[df_bachelor.ww_x_PERIODE_PEDAGO == 'Bachelor semestre 5b'].shape)"
   ]
  },
  {
   "cell_type": "markdown",
   "metadata": {},
   "source": [
    "Counting the number of students"
   ]
  },
  {
   "cell_type": "code",
   "execution_count": 13,
   "metadata": {
    "collapsed": false
   },
   "outputs": [
    {
     "name": "stdout",
     "output_type": "stream",
     "text": [
      "1481\n"
     ]
    }
   ],
   "source": [
    "print(len(df_bachelor['No Sciper'].unique()))"
   ]
  },
  {
   "cell_type": "markdown",
   "metadata": {},
   "source": [
    "### Filtering the data\n",
    "The goal is to keep only students with a Bachelor semestre 1 & 6. For this we first create a list of the student having a bachelor semestre 1 which we call `df_bachelor_semestre_1` and another one for the semestre 6, `df_bachelor_semestre_6`. Then we use the function `isin` to filter the dataset "
   ]
  },
  {
   "cell_type": "code",
   "execution_count": 14,
   "metadata": {
    "collapsed": false
   },
   "outputs": [],
   "source": [
    "df_bachelor_semestre_1 = df_bachelor[df_bachelor.ww_x_PERIODE_PEDAGO=='Bachelor semestre 1']\n",
    "df_bachelor_semestre_6 = df_bachelor[df_bachelor.ww_x_PERIODE_PEDAGO=='Bachelor semestre 6']"
   ]
  },
  {
   "cell_type": "code",
   "execution_count": 15,
   "metadata": {
    "collapsed": false
   },
   "outputs": [
    {
     "name": "stdout",
     "output_type": "stream",
     "text": [
      "(2812, 15)\n"
     ]
    },
    {
     "data": {
      "text/html": [
       "<div>\n",
       "<table border=\"1\" class=\"dataframe\">\n",
       "  <thead>\n",
       "    <tr style=\"text-align: right;\">\n",
       "      <th></th>\n",
       "      <th>Civilité</th>\n",
       "      <th>Ecole Echange</th>\n",
       "      <th>Filière opt.</th>\n",
       "      <th>Mineur</th>\n",
       "      <th>No Sciper</th>\n",
       "      <th>Nom Prénom</th>\n",
       "      <th>Orientation Bachelor</th>\n",
       "      <th>Orientation Master</th>\n",
       "      <th>Spécialisation</th>\n",
       "      <th>Statut</th>\n",
       "      <th>Type Echange</th>\n",
       "      <th>ww_x_HIVERETE</th>\n",
       "      <th>ww_x_PERIODE_ACAD</th>\n",
       "      <th>ww_x_PERIODE_PEDAGO</th>\n",
       "      <th>ww_x_UNITE_ACAD</th>\n",
       "    </tr>\n",
       "  </thead>\n",
       "  <tbody>\n",
       "    <tr>\n",
       "      <th>0</th>\n",
       "      <td>Monsieur</td>\n",
       "      <td></td>\n",
       "      <td></td>\n",
       "      <td></td>\n",
       "      <td>169569</td>\n",
       "      <td>Arévalo Christian</td>\n",
       "      <td></td>\n",
       "      <td></td>\n",
       "      <td></td>\n",
       "      <td>Présent</td>\n",
       "      <td></td>\n",
       "      <td>Semestre d'automne</td>\n",
       "      <td>2007-2008</td>\n",
       "      <td>Bachelor semestre 1</td>\n",
       "      <td>Informatique</td>\n",
       "    </tr>\n",
       "    <tr>\n",
       "      <th>1</th>\n",
       "      <td>Monsieur</td>\n",
       "      <td></td>\n",
       "      <td></td>\n",
       "      <td></td>\n",
       "      <td>174905</td>\n",
       "      <td>Aubelle Flavien</td>\n",
       "      <td></td>\n",
       "      <td></td>\n",
       "      <td></td>\n",
       "      <td>Présent</td>\n",
       "      <td></td>\n",
       "      <td>Semestre d'automne</td>\n",
       "      <td>2007-2008</td>\n",
       "      <td>Bachelor semestre 1</td>\n",
       "      <td>Informatique</td>\n",
       "    </tr>\n",
       "    <tr>\n",
       "      <th>3</th>\n",
       "      <td>Monsieur</td>\n",
       "      <td></td>\n",
       "      <td></td>\n",
       "      <td></td>\n",
       "      <td>179406</td>\n",
       "      <td>Baeriswyl Jonathan</td>\n",
       "      <td></td>\n",
       "      <td></td>\n",
       "      <td></td>\n",
       "      <td>Présent</td>\n",
       "      <td></td>\n",
       "      <td>Semestre d'automne</td>\n",
       "      <td>2007-2008</td>\n",
       "      <td>Bachelor semestre 1</td>\n",
       "      <td>Informatique</td>\n",
       "    </tr>\n",
       "    <tr>\n",
       "      <th>4</th>\n",
       "      <td>Monsieur</td>\n",
       "      <td></td>\n",
       "      <td></td>\n",
       "      <td></td>\n",
       "      <td>179428</td>\n",
       "      <td>Barroco Michael</td>\n",
       "      <td></td>\n",
       "      <td></td>\n",
       "      <td></td>\n",
       "      <td>Présent</td>\n",
       "      <td></td>\n",
       "      <td>Semestre d'automne</td>\n",
       "      <td>2007-2008</td>\n",
       "      <td>Bachelor semestre 1</td>\n",
       "      <td>Informatique</td>\n",
       "    </tr>\n",
       "    <tr>\n",
       "      <th>7</th>\n",
       "      <td>Monsieur</td>\n",
       "      <td></td>\n",
       "      <td></td>\n",
       "      <td></td>\n",
       "      <td>179449</td>\n",
       "      <td>Bindschaedler Vincent</td>\n",
       "      <td></td>\n",
       "      <td></td>\n",
       "      <td></td>\n",
       "      <td>Présent</td>\n",
       "      <td></td>\n",
       "      <td>Semestre d'automne</td>\n",
       "      <td>2007-2008</td>\n",
       "      <td>Bachelor semestre 1</td>\n",
       "      <td>Informatique</td>\n",
       "    </tr>\n",
       "  </tbody>\n",
       "</table>\n",
       "</div>"
      ],
      "text/plain": [
       "   Civilité Ecole Echange Filière opt. Mineur No Sciper  \\\n",
       "0  Monsieur                                      169569   \n",
       "1  Monsieur                                      174905   \n",
       "3  Monsieur                                      179406   \n",
       "4  Monsieur                                      179428   \n",
       "7  Monsieur                                      179449   \n",
       "\n",
       "              Nom Prénom Orientation Bachelor Orientation Master  \\\n",
       "0      Arévalo Christian                                           \n",
       "1        Aubelle Flavien                                           \n",
       "3     Baeriswyl Jonathan                                           \n",
       "4        Barroco Michael                                           \n",
       "7  Bindschaedler Vincent                                           \n",
       "\n",
       "  Spécialisation   Statut Type Echange       ww_x_HIVERETE ww_x_PERIODE_ACAD  \\\n",
       "0                 Présent               Semestre d'automne         2007-2008   \n",
       "1                 Présent               Semestre d'automne         2007-2008   \n",
       "3                 Présent               Semestre d'automne         2007-2008   \n",
       "4                 Présent               Semestre d'automne         2007-2008   \n",
       "7                 Présent               Semestre d'automne         2007-2008   \n",
       "\n",
       "   ww_x_PERIODE_PEDAGO ww_x_UNITE_ACAD  \n",
       "0  Bachelor semestre 1    Informatique  \n",
       "1  Bachelor semestre 1    Informatique  \n",
       "3  Bachelor semestre 1    Informatique  \n",
       "4  Bachelor semestre 1    Informatique  \n",
       "7  Bachelor semestre 1    Informatique  "
      ]
     },
     "execution_count": 15,
     "metadata": {},
     "output_type": "execute_result"
    }
   ],
   "source": [
    "df_bachelor_filtered = df_bachelor[df_bachelor['No Sciper'].isin(df_bachelor_semestre_1['No Sciper'].tolist())]\n",
    "df_bachelor_filtered = df_bachelor_filtered[df_bachelor_filtered['No Sciper'].isin(df_bachelor_semestre_6['No Sciper'].tolist())]\n",
    "\n",
    "print(df_bachelor_filtered.shape)\n",
    "df_bachelor_filtered.head()"
   ]
  },
  {
   "cell_type": "markdown",
   "metadata": {},
   "source": [
    "Counting the students. We have less students than before because we removed the students that started before 2007-2008 and finished after 2016-2017"
   ]
  },
  {
   "cell_type": "code",
   "execution_count": 16,
   "metadata": {
    "collapsed": false
   },
   "outputs": [
    {
     "name": "stdout",
     "output_type": "stream",
     "text": [
      "397\n"
     ]
    }
   ],
   "source": [
    "print(len(df_bachelor_filtered['No Sciper'].unique()))"
   ]
  },
  {
   "cell_type": "markdown",
   "metadata": {},
   "source": [
    "### Compute average of number of months \n",
    "At first we use the `group` method on the fields `Civilité` and `No Sciper` to group our data entries by sex and individual students, then we aggregate with the function `size` to know the number of semesters that each student has gone through. We consider that the number of months of study of a student is 6 times his number of semesters. We also assume that students with more than 6 semesters have completed the bachelor.\n",
    "\n",
    "*The question, \"Compute how many months it took each student to go from the first to the sixth semester.\", being quite unclear, we considered instead the time needed to complete the bachelor*"
   ]
  },
  {
   "cell_type": "code",
   "execution_count": 17,
   "metadata": {
    "collapsed": false
   },
   "outputs": [
    {
     "name": "stdout",
     "output_type": "stream",
     "text": [
      "number of F: 29\n",
      "number of M: 368\n",
      "F avg number of months: 40.758621\n",
      "M avg number of months: 42.635870\n"
     ]
    }
   ],
   "source": [
    "df_bachelor_grouped = df_bachelor_filtered[['Civilité','No Sciper','ww_x_PERIODE_PEDAGO']].groupby(['Civilité','No Sciper'])\n",
    "print('number of F: %d' % (df_bachelor_grouped.size()['Madame'].count()))\n",
    "print('number of M: %d' % (df_bachelor_grouped.size()['Monsieur'].count()))\n",
    "print('F avg number of months: %f' % (df_bachelor_grouped.size()['Madame'].mean()*6))\n",
    "print('M avg number of months: %f' % (df_bachelor_grouped.size()['Monsieur'].mean()*6))"
   ]
  },
  {
   "cell_type": "code",
   "execution_count": 18,
   "metadata": {
    "collapsed": false
   },
   "outputs": [
    {
     "data": {
      "text/plain": [
       "<matplotlib.axes._subplots.AxesSubplot at 0x118d46898>"
      ]
     },
     "execution_count": 18,
     "metadata": {},
     "output_type": "execute_result"
    },
    {
     "data": {
      "image/png": "[encoded data removed]",
      "text/plain": [
       "<matplotlib.figure.Figure at 0x1180d5128>"
      ]
     },
     "metadata": {},
     "output_type": "display_data"
    }
   ],
   "source": [
    "sns.barplot(x='sex', y='mean', data=pd.DataFrame({\n",
    "    \"sex\": [\"Madame\",\"Monsieur\"],\n",
    "    \"mean\": [df_bachelor_grouped.size()['Madame'].mean()*6,df_bachelor_grouped.size()['Monsieur'].mean()*6]\n",
    "}))"
   ]
  },
  {
   "cell_type": "markdown",
   "metadata": {},
   "source": [
    "### Statistical significance\n",
    "We compute the statistical difference between Female and Male average number of months. For that, we use a t-test: This is a two-sided test for the null hypothesis. It shows if two independent samples have identical average (expected) values. We see that the pvalue = 0.288 (> 0.05), meaning that we cannot reject the null hypothesis. We cannot say that the female students take longer or shorter to finish their bachelor in Computer Science than the male students."
   ]
  },
  {
   "cell_type": "code",
   "execution_count": 19,
   "metadata": {
    "collapsed": false
   },
   "outputs": [
    {
     "data": {
      "text/plain": [
       "Ttest_indResult(statistic=-1.0643000334248713, pvalue=0.28784297465161934)"
      ]
     },
     "execution_count": 19,
     "metadata": {},
     "output_type": "execute_result"
    }
   ],
   "source": [
    "f = [6*x for x in df_bachelor_grouped.size()['Madame'].tolist()]\n",
    "m = [6*x for x in df_bachelor_grouped.size()['Monsieur'].tolist()]\n",
    "ttest_ind(f, m)"
   ]
  },
  {
   "cell_type": "markdown",
   "metadata": {},
   "source": [
    "## Question 2"
   ]
  },
  {
   "cell_type": "markdown",
   "metadata": {},
   "source": [
    "### Importing the data\n",
    "Uses the function `get_all_data`"
   ]
  },
  {
   "cell_type": "code",
   "execution_count": 20,
   "metadata": {
    "collapsed": false
   },
   "outputs": [],
   "source": [
    "df_master = get_all_data(\n",
    "    ['Informatique'],\n",
    "    ['2007-2008','2008-2009','2009-2010','2010-2011','2011-2012','2012-2013','2013-2014','2014-2015','2015-2016','2016-2017'],\n",
    "    ['Master semestre 1','Master semestre 2','Master semestre 3','Master semestre 4','Mineur semestre 1','Mineur semestre 2','Projet Master automne','Projet Master printemps'],\n",
    "    [\"Semestre d'automne\",'Semestre de printemps']\n",
    ")"
   ]
  },
  {
   "cell_type": "code",
   "execution_count": 21,
   "metadata": {
    "collapsed": false
   },
   "outputs": [
    {
     "name": "stdout",
     "output_type": "stream",
     "text": [
      "(2844, 15)\n"
     ]
    },
    {
     "data": {
      "text/html": [
       "<div>\n",
       "<table border=\"1\" class=\"dataframe\">\n",
       "  <thead>\n",
       "    <tr style=\"text-align: right;\">\n",
       "      <th></th>\n",
       "      <th>Civilité</th>\n",
       "      <th>Ecole Echange</th>\n",
       "      <th>Filière opt.</th>\n",
       "      <th>Mineur</th>\n",
       "      <th>No Sciper</th>\n",
       "      <th>Nom Prénom</th>\n",
       "      <th>Orientation Bachelor</th>\n",
       "      <th>Orientation Master</th>\n",
       "      <th>Spécialisation</th>\n",
       "      <th>Statut</th>\n",
       "      <th>Type Echange</th>\n",
       "      <th>ww_x_HIVERETE</th>\n",
       "      <th>ww_x_PERIODE_ACAD</th>\n",
       "      <th>ww_x_PERIODE_PEDAGO</th>\n",
       "      <th>ww_x_UNITE_ACAD</th>\n",
       "    </tr>\n",
       "  </thead>\n",
       "  <tbody>\n",
       "    <tr>\n",
       "      <th>0</th>\n",
       "      <td>Monsieur</td>\n",
       "      <td></td>\n",
       "      <td></td>\n",
       "      <td></td>\n",
       "      <td>153066</td>\n",
       "      <td>Aeberhard François-Xavier</td>\n",
       "      <td></td>\n",
       "      <td></td>\n",
       "      <td></td>\n",
       "      <td>Présent</td>\n",
       "      <td></td>\n",
       "      <td>Semestre d'automne</td>\n",
       "      <td>2007-2008</td>\n",
       "      <td>Master semestre 1</td>\n",
       "      <td>Informatique</td>\n",
       "    </tr>\n",
       "    <tr>\n",
       "      <th>1</th>\n",
       "      <td>Madame</td>\n",
       "      <td></td>\n",
       "      <td></td>\n",
       "      <td></td>\n",
       "      <td>180027</td>\n",
       "      <td>Agarwal Megha</td>\n",
       "      <td></td>\n",
       "      <td></td>\n",
       "      <td></td>\n",
       "      <td>Présent</td>\n",
       "      <td></td>\n",
       "      <td>Semestre d'automne</td>\n",
       "      <td>2007-2008</td>\n",
       "      <td>Master semestre 1</td>\n",
       "      <td>Informatique</td>\n",
       "    </tr>\n",
       "    <tr>\n",
       "      <th>2</th>\n",
       "      <td>Monsieur</td>\n",
       "      <td></td>\n",
       "      <td></td>\n",
       "      <td></td>\n",
       "      <td>152232</td>\n",
       "      <td>Anagnostaras David</td>\n",
       "      <td></td>\n",
       "      <td></td>\n",
       "      <td></td>\n",
       "      <td>Présent</td>\n",
       "      <td></td>\n",
       "      <td>Semestre d'automne</td>\n",
       "      <td>2007-2008</td>\n",
       "      <td>Master semestre 1</td>\n",
       "      <td>Informatique</td>\n",
       "    </tr>\n",
       "    <tr>\n",
       "      <th>3</th>\n",
       "      <td>Monsieur</td>\n",
       "      <td></td>\n",
       "      <td></td>\n",
       "      <td></td>\n",
       "      <td>177395</td>\n",
       "      <td>Auroux Damien</td>\n",
       "      <td></td>\n",
       "      <td></td>\n",
       "      <td></td>\n",
       "      <td>Présent</td>\n",
       "      <td></td>\n",
       "      <td>Semestre d'automne</td>\n",
       "      <td>2007-2008</td>\n",
       "      <td>Master semestre 1</td>\n",
       "      <td>Informatique</td>\n",
       "    </tr>\n",
       "    <tr>\n",
       "      <th>4</th>\n",
       "      <td>Monsieur</td>\n",
       "      <td></td>\n",
       "      <td></td>\n",
       "      <td></td>\n",
       "      <td>161970</td>\n",
       "      <td>Awalebo Joseph</td>\n",
       "      <td></td>\n",
       "      <td></td>\n",
       "      <td></td>\n",
       "      <td>Présent</td>\n",
       "      <td></td>\n",
       "      <td>Semestre d'automne</td>\n",
       "      <td>2007-2008</td>\n",
       "      <td>Master semestre 1</td>\n",
       "      <td>Informatique</td>\n",
       "    </tr>\n",
       "  </tbody>\n",
       "</table>\n",
       "</div>"
      ],
      "text/plain": [
       "   Civilité Ecole Echange Filière opt. Mineur No Sciper  \\\n",
       "0  Monsieur                                      153066   \n",
       "1    Madame                                      180027   \n",
       "2  Monsieur                                      152232   \n",
       "3  Monsieur                                      177395   \n",
       "4  Monsieur                                      161970   \n",
       "\n",
       "                  Nom Prénom Orientation Bachelor Orientation Master  \\\n",
       "0  Aeberhard François-Xavier                                           \n",
       "1              Agarwal Megha                                           \n",
       "2         Anagnostaras David                                           \n",
       "3              Auroux Damien                                           \n",
       "4             Awalebo Joseph                                           \n",
       "\n",
       "  Spécialisation   Statut Type Echange       ww_x_HIVERETE ww_x_PERIODE_ACAD  \\\n",
       "0                 Présent               Semestre d'automne         2007-2008   \n",
       "1                 Présent               Semestre d'automne         2007-2008   \n",
       "2                 Présent               Semestre d'automne         2007-2008   \n",
       "3                 Présent               Semestre d'automne         2007-2008   \n",
       "4                 Présent               Semestre d'automne         2007-2008   \n",
       "\n",
       "  ww_x_PERIODE_PEDAGO ww_x_UNITE_ACAD  \n",
       "0   Master semestre 1    Informatique  \n",
       "1   Master semestre 1    Informatique  \n",
       "2   Master semestre 1    Informatique  \n",
       "3   Master semestre 1    Informatique  \n",
       "4   Master semestre 1    Informatique  "
      ]
     },
     "execution_count": 21,
     "metadata": {},
     "output_type": "execute_result"
    }
   ],
   "source": [
    "print(df_master.shape)\n",
    "df_master.head()"
   ]
  },
  {
   "cell_type": "markdown",
   "metadata": {},
   "source": [
    "### Exploring the data"
   ]
  },
  {
   "cell_type": "markdown",
   "metadata": {},
   "source": [
    "About the field `Spécialisation`"
   ]
  },
  {
   "cell_type": "code",
   "execution_count": 22,
   "metadata": {
    "collapsed": false
   },
   "outputs": [
    {
     "data": {
      "text/plain": [
       "array(['', 'Internet computing', 'Foundations of Software', 'Biocomputing',\n",
       "       'Signals, Images and Interfaces', 'Computer Engineering - SP',\n",
       "       'Service science', 'Software Systems', 'Information Security - SP',\n",
       "       'Data Analytics', 'Internet Information Systems',\n",
       "       'Computer Science Theory'], dtype=object)"
      ]
     },
     "execution_count": 22,
     "metadata": {},
     "output_type": "execute_result"
    }
   ],
   "source": [
    "df_master['Spécialisation'].unique()"
   ]
  },
  {
   "cell_type": "code",
   "execution_count": 23,
   "metadata": {
    "collapsed": false
   },
   "outputs": [
    {
     "name": "stdout",
     "output_type": "stream",
     "text": [
      "Number of unique master students: 977\n",
      "Number of unique master students who did a spécialisation: 287\n"
     ]
    }
   ],
   "source": [
    "df_master_specialisation = df_master[df_master.Spécialisation!=\"\"]\n",
    "print(\"Number of unique master students: %d\" % df_master['No Sciper'].unique().size)\n",
    "print(\"Number of unique master students who did a spécialisation: %d\" % df_master_specialisation['No Sciper'].unique().size)"
   ]
  },
  {
   "cell_type": "code",
   "execution_count": 24,
   "metadata": {
    "collapsed": false
   },
   "outputs": [
    {
     "data": {
      "text/html": [
       "<div>\n",
       "<table border=\"1\" class=\"dataframe\">\n",
       "  <thead>\n",
       "    <tr style=\"text-align: right;\">\n",
       "      <th></th>\n",
       "      <th>No Sciper</th>\n",
       "      <th>Spécialisation</th>\n",
       "    </tr>\n",
       "  </thead>\n",
       "  <tbody>\n",
       "    <tr>\n",
       "      <th>13</th>\n",
       "      <td>180072</td>\n",
       "      <td>Internet computing</td>\n",
       "    </tr>\n",
       "    <tr>\n",
       "      <th>32</th>\n",
       "      <td>165819</td>\n",
       "      <td>Foundations of Software</td>\n",
       "    </tr>\n",
       "    <tr>\n",
       "      <th>42</th>\n",
       "      <td>172611</td>\n",
       "      <td>Biocomputing</td>\n",
       "    </tr>\n",
       "    <tr>\n",
       "      <th>50</th>\n",
       "      <td>179878</td>\n",
       "      <td>Internet computing</td>\n",
       "    </tr>\n",
       "    <tr>\n",
       "      <th>53</th>\n",
       "      <td>180160</td>\n",
       "      <td>Internet computing</td>\n",
       "    </tr>\n",
       "  </tbody>\n",
       "</table>\n",
       "</div>"
      ],
      "text/plain": [
       "   No Sciper           Spécialisation\n",
       "13    180072       Internet computing\n",
       "32    165819  Foundations of Software\n",
       "42    172611             Biocomputing\n",
       "50    179878       Internet computing\n",
       "53    180160       Internet computing"
      ]
     },
     "execution_count": 24,
     "metadata": {},
     "output_type": "execute_result"
    }
   ],
   "source": [
    "df_master_specialisation[['No Sciper','Spécialisation']].head()"
   ]
  },
  {
   "cell_type": "markdown",
   "metadata": {},
   "source": [
    "About the field `ww_x_PERIODE_PEDAGO` and the options 'Mineur semestre 1' and 'Mineur semestre 2'"
   ]
  },
  {
   "cell_type": "code",
   "execution_count": 25,
   "metadata": {
    "collapsed": false
   },
   "outputs": [
    {
     "name": "stdout",
     "output_type": "stream",
     "text": [
      "(0, 15)\n",
      "(0, 15)\n"
     ]
    }
   ],
   "source": [
    "print(df_master[df_master.ww_x_PERIODE_PEDAGO == 'Mineur semestre 1'].shape)\n",
    "print(df_master[df_master.ww_x_PERIODE_PEDAGO == 'Mineur semestre 2'].shape)"
   ]
  },
  {
   "cell_type": "markdown",
   "metadata": {},
   "source": [
    "### Filtering the data\n",
    "\n",
    "We decide to consider that a student completes the master by doing his/her Master Project."
   ]
  },
  {
   "cell_type": "code",
   "execution_count": 26,
   "metadata": {
    "collapsed": false
   },
   "outputs": [],
   "source": [
    "df_master_pdm = df_master[df_master.ww_x_PERIODE_PEDAGO.isin(['Projet Master automne','Projet Master printemps'])]\n",
    "df_master_semestre1 = df_master[df_master.ww_x_PERIODE_PEDAGO.isin(['Master semestre 1'])]"
   ]
  },
  {
   "cell_type": "code",
   "execution_count": 27,
   "metadata": {
    "collapsed": false
   },
   "outputs": [
    {
     "data": {
      "text/html": [
       "<div>\n",
       "<table border=\"1\" class=\"dataframe\">\n",
       "  <thead>\n",
       "    <tr style=\"text-align: right;\">\n",
       "      <th></th>\n",
       "      <th>Civilité</th>\n",
       "      <th>Ecole Echange</th>\n",
       "      <th>Filière opt.</th>\n",
       "      <th>Mineur</th>\n",
       "      <th>No Sciper</th>\n",
       "      <th>Nom Prénom</th>\n",
       "      <th>Orientation Bachelor</th>\n",
       "      <th>Orientation Master</th>\n",
       "      <th>Spécialisation</th>\n",
       "      <th>Statut</th>\n",
       "      <th>Type Echange</th>\n",
       "      <th>ww_x_HIVERETE</th>\n",
       "      <th>ww_x_PERIODE_ACAD</th>\n",
       "      <th>ww_x_PERIODE_PEDAGO</th>\n",
       "      <th>ww_x_UNITE_ACAD</th>\n",
       "    </tr>\n",
       "  </thead>\n",
       "  <tbody>\n",
       "    <tr>\n",
       "      <th>1</th>\n",
       "      <td>Madame</td>\n",
       "      <td></td>\n",
       "      <td></td>\n",
       "      <td></td>\n",
       "      <td>180027</td>\n",
       "      <td>Agarwal Megha</td>\n",
       "      <td></td>\n",
       "      <td></td>\n",
       "      <td></td>\n",
       "      <td>Présent</td>\n",
       "      <td></td>\n",
       "      <td>Semestre d'automne</td>\n",
       "      <td>2007-2008</td>\n",
       "      <td>Master semestre 1</td>\n",
       "      <td>Informatique</td>\n",
       "    </tr>\n",
       "    <tr>\n",
       "      <th>8</th>\n",
       "      <td>Madame</td>\n",
       "      <td></td>\n",
       "      <td></td>\n",
       "      <td></td>\n",
       "      <td>154573</td>\n",
       "      <td>Benabdallah Zeineb</td>\n",
       "      <td></td>\n",
       "      <td></td>\n",
       "      <td></td>\n",
       "      <td>Présent</td>\n",
       "      <td></td>\n",
       "      <td>Semestre d'automne</td>\n",
       "      <td>2007-2008</td>\n",
       "      <td>Master semestre 1</td>\n",
       "      <td>Informatique</td>\n",
       "    </tr>\n",
       "    <tr>\n",
       "      <th>10</th>\n",
       "      <td>Monsieur</td>\n",
       "      <td></td>\n",
       "      <td></td>\n",
       "      <td></td>\n",
       "      <td>172687</td>\n",
       "      <td>Billaud Joël</td>\n",
       "      <td></td>\n",
       "      <td></td>\n",
       "      <td></td>\n",
       "      <td>Présent</td>\n",
       "      <td></td>\n",
       "      <td>Semestre d'automne</td>\n",
       "      <td>2007-2008</td>\n",
       "      <td>Master semestre 1</td>\n",
       "      <td>Informatique</td>\n",
       "    </tr>\n",
       "    <tr>\n",
       "      <th>13</th>\n",
       "      <td>Monsieur</td>\n",
       "      <td></td>\n",
       "      <td></td>\n",
       "      <td></td>\n",
       "      <td>180072</td>\n",
       "      <td>Campora Simone</td>\n",
       "      <td></td>\n",
       "      <td></td>\n",
       "      <td>Internet computing</td>\n",
       "      <td>Présent</td>\n",
       "      <td></td>\n",
       "      <td>Semestre d'automne</td>\n",
       "      <td>2007-2008</td>\n",
       "      <td>Master semestre 1</td>\n",
       "      <td>Informatique</td>\n",
       "    </tr>\n",
       "    <tr>\n",
       "      <th>16</th>\n",
       "      <td>Monsieur</td>\n",
       "      <td></td>\n",
       "      <td></td>\n",
       "      <td></td>\n",
       "      <td>160225</td>\n",
       "      <td>Cassata Alexandre</td>\n",
       "      <td></td>\n",
       "      <td></td>\n",
       "      <td></td>\n",
       "      <td>Présent</td>\n",
       "      <td></td>\n",
       "      <td>Semestre d'automne</td>\n",
       "      <td>2007-2008</td>\n",
       "      <td>Master semestre 1</td>\n",
       "      <td>Informatique</td>\n",
       "    </tr>\n",
       "  </tbody>\n",
       "</table>\n",
       "</div>"
      ],
      "text/plain": [
       "    Civilité Ecole Echange Filière opt. Mineur No Sciper          Nom Prénom  \\\n",
       "1     Madame                                      180027       Agarwal Megha   \n",
       "8     Madame                                      154573  Benabdallah Zeineb   \n",
       "10  Monsieur                                      172687        Billaud Joël   \n",
       "13  Monsieur                                      180072      Campora Simone   \n",
       "16  Monsieur                                      160225   Cassata Alexandre   \n",
       "\n",
       "   Orientation Bachelor Orientation Master      Spécialisation   Statut  \\\n",
       "1                                                               Présent   \n",
       "8                                                               Présent   \n",
       "10                                                              Présent   \n",
       "13                                          Internet computing  Présent   \n",
       "16                                                              Présent   \n",
       "\n",
       "   Type Echange       ww_x_HIVERETE ww_x_PERIODE_ACAD ww_x_PERIODE_PEDAGO  \\\n",
       "1                Semestre d'automne         2007-2008   Master semestre 1   \n",
       "8                Semestre d'automne         2007-2008   Master semestre 1   \n",
       "10               Semestre d'automne         2007-2008   Master semestre 1   \n",
       "13               Semestre d'automne         2007-2008   Master semestre 1   \n",
       "16               Semestre d'automne         2007-2008   Master semestre 1   \n",
       "\n",
       "   ww_x_UNITE_ACAD  \n",
       "1     Informatique  \n",
       "8     Informatique  \n",
       "10    Informatique  \n",
       "13    Informatique  \n",
       "16    Informatique  "
      ]
     },
     "execution_count": 27,
     "metadata": {},
     "output_type": "execute_result"
    }
   ],
   "source": [
    "df_master_filtered = df_master[df_master['No Sciper'].isin(df_master_pdm['No Sciper'].tolist())]\n",
    "df_master_filtered = df_master_filtered[df_master_filtered['No Sciper'].isin(df_master_semestre1['No Sciper'].tolist())]\n",
    "df_master_filtered.head()"
   ]
  },
  {
   "cell_type": "markdown",
   "metadata": {},
   "source": [
    "### Compute average of number of months \n",
    "\n",
    "At first we use the `group` method on the field `No Sciper` to group our data entries by individual students, then we aggregate with the function `size` to know the number of semesters that each student has gone through. We consider that the number of months of study of a student is 6 times his number of semesters."
   ]
  },
  {
   "cell_type": "code",
   "execution_count": 28,
   "metadata": {
    "collapsed": false
   },
   "outputs": [
    {
     "name": "stdout",
     "output_type": "stream",
     "text": [
      "number of students: 114\n",
      "average number of months: 25.578947\n"
     ]
    }
   ],
   "source": [
    "df_master_grouped = df_master_filtered[['No Sciper','ww_x_PERIODE_PEDAGO']].groupby(['No Sciper'])\n",
    "print('number of students: %d' % (df_master_grouped.size().count()))\n",
    "print('average number of months: %f' % (df_master_grouped.size().mean()*6))"
   ]
  },
  {
   "cell_type": "markdown",
   "metadata": {
    "collapsed": true
   },
   "source": [
    "### Specialisation \n",
    "\n",
    "In this section we want to explore the time differences depending on the choice of specializations. Is there a statistical difference between the average student master duration between different specializations? We show how to manipulate the data to compute the averages, however we do not have enough data to conclude on the significance of our results."
   ]
  },
  {
   "cell_type": "code",
   "execution_count": 29,
   "metadata": {
    "collapsed": false
   },
   "outputs": [
    {
     "data": {
      "text/html": [
       "<div>\n",
       "<table border=\"1\" class=\"dataframe\">\n",
       "  <thead>\n",
       "    <tr style=\"text-align: right;\">\n",
       "      <th></th>\n",
       "      <th>Civilité</th>\n",
       "      <th>Ecole Echange</th>\n",
       "      <th>Filière opt.</th>\n",
       "      <th>Mineur</th>\n",
       "      <th>No Sciper</th>\n",
       "      <th>Nom Prénom</th>\n",
       "      <th>Orientation Bachelor</th>\n",
       "      <th>Orientation Master</th>\n",
       "      <th>Spécialisation</th>\n",
       "      <th>Statut</th>\n",
       "      <th>Type Echange</th>\n",
       "      <th>ww_x_HIVERETE</th>\n",
       "      <th>ww_x_PERIODE_ACAD</th>\n",
       "      <th>ww_x_PERIODE_PEDAGO</th>\n",
       "      <th>ww_x_UNITE_ACAD</th>\n",
       "      <th>SpeName</th>\n",
       "    </tr>\n",
       "  </thead>\n",
       "  <tbody>\n",
       "    <tr>\n",
       "      <th>1</th>\n",
       "      <td>Madame</td>\n",
       "      <td></td>\n",
       "      <td></td>\n",
       "      <td></td>\n",
       "      <td>180027</td>\n",
       "      <td>Agarwal Megha</td>\n",
       "      <td></td>\n",
       "      <td></td>\n",
       "      <td></td>\n",
       "      <td>Présent</td>\n",
       "      <td></td>\n",
       "      <td>Semestre d'automne</td>\n",
       "      <td>2007-2008</td>\n",
       "      <td>Master semestre 1</td>\n",
       "      <td>Informatique</td>\n",
       "      <td></td>\n",
       "    </tr>\n",
       "    <tr>\n",
       "      <th>8</th>\n",
       "      <td>Madame</td>\n",
       "      <td></td>\n",
       "      <td></td>\n",
       "      <td></td>\n",
       "      <td>154573</td>\n",
       "      <td>Benabdallah Zeineb</td>\n",
       "      <td></td>\n",
       "      <td></td>\n",
       "      <td></td>\n",
       "      <td>Présent</td>\n",
       "      <td></td>\n",
       "      <td>Semestre d'automne</td>\n",
       "      <td>2007-2008</td>\n",
       "      <td>Master semestre 1</td>\n",
       "      <td>Informatique</td>\n",
       "      <td>Biocomputing</td>\n",
       "    </tr>\n",
       "    <tr>\n",
       "      <th>10</th>\n",
       "      <td>Monsieur</td>\n",
       "      <td></td>\n",
       "      <td></td>\n",
       "      <td></td>\n",
       "      <td>172687</td>\n",
       "      <td>Billaud Joël</td>\n",
       "      <td></td>\n",
       "      <td></td>\n",
       "      <td></td>\n",
       "      <td>Présent</td>\n",
       "      <td></td>\n",
       "      <td>Semestre d'automne</td>\n",
       "      <td>2007-2008</td>\n",
       "      <td>Master semestre 1</td>\n",
       "      <td>Informatique</td>\n",
       "      <td></td>\n",
       "    </tr>\n",
       "    <tr>\n",
       "      <th>13</th>\n",
       "      <td>Monsieur</td>\n",
       "      <td></td>\n",
       "      <td></td>\n",
       "      <td></td>\n",
       "      <td>180072</td>\n",
       "      <td>Campora Simone</td>\n",
       "      <td></td>\n",
       "      <td></td>\n",
       "      <td>Internet computing</td>\n",
       "      <td>Présent</td>\n",
       "      <td></td>\n",
       "      <td>Semestre d'automne</td>\n",
       "      <td>2007-2008</td>\n",
       "      <td>Master semestre 1</td>\n",
       "      <td>Informatique</td>\n",
       "      <td>Internet computing</td>\n",
       "    </tr>\n",
       "    <tr>\n",
       "      <th>16</th>\n",
       "      <td>Monsieur</td>\n",
       "      <td></td>\n",
       "      <td></td>\n",
       "      <td></td>\n",
       "      <td>160225</td>\n",
       "      <td>Cassata Alexandre</td>\n",
       "      <td></td>\n",
       "      <td></td>\n",
       "      <td></td>\n",
       "      <td>Présent</td>\n",
       "      <td></td>\n",
       "      <td>Semestre d'automne</td>\n",
       "      <td>2007-2008</td>\n",
       "      <td>Master semestre 1</td>\n",
       "      <td>Informatique</td>\n",
       "      <td></td>\n",
       "    </tr>\n",
       "  </tbody>\n",
       "</table>\n",
       "</div>"
      ],
      "text/plain": [
       "    Civilité Ecole Echange Filière opt. Mineur No Sciper          Nom Prénom  \\\n",
       "1     Madame                                      180027       Agarwal Megha   \n",
       "8     Madame                                      154573  Benabdallah Zeineb   \n",
       "10  Monsieur                                      172687        Billaud Joël   \n",
       "13  Monsieur                                      180072      Campora Simone   \n",
       "16  Monsieur                                      160225   Cassata Alexandre   \n",
       "\n",
       "   Orientation Bachelor Orientation Master      Spécialisation   Statut  \\\n",
       "1                                                               Présent   \n",
       "8                                                               Présent   \n",
       "10                                                              Présent   \n",
       "13                                          Internet computing  Présent   \n",
       "16                                                              Présent   \n",
       "\n",
       "   Type Echange       ww_x_HIVERETE ww_x_PERIODE_ACAD ww_x_PERIODE_PEDAGO  \\\n",
       "1                Semestre d'automne         2007-2008   Master semestre 1   \n",
       "8                Semestre d'automne         2007-2008   Master semestre 1   \n",
       "10               Semestre d'automne         2007-2008   Master semestre 1   \n",
       "13               Semestre d'automne         2007-2008   Master semestre 1   \n",
       "16               Semestre d'automne         2007-2008   Master semestre 1   \n",
       "\n",
       "   ww_x_UNITE_ACAD             SpeName  \n",
       "1     Informatique                      \n",
       "8     Informatique        Biocomputing  \n",
       "10    Informatique                      \n",
       "13    Informatique  Internet computing  \n",
       "16    Informatique                      "
      ]
     },
     "execution_count": 29,
     "metadata": {},
     "output_type": "execute_result"
    }
   ],
   "source": [
    "specialisations = df_master['Spécialisation'].unique()[1:]\n",
    "def get_spe(sciper):\n",
    "    for specialisation in specialisations:\n",
    "        if sciper in df_master[df_master.Spécialisation==specialisation]['No Sciper'].tolist():\n",
    "            return specialisation\n",
    "    return ''\n",
    "\n",
    "df_master_filtered['SpeName'] = df_master_filtered['No Sciper'].apply(get_spe)\n",
    "df_master_filtered.head()"
   ]
  },
  {
   "cell_type": "code",
   "execution_count": 30,
   "metadata": {
    "collapsed": false
   },
   "outputs": [],
   "source": [
    "df_master_grouped_with_spe = df_master_filtered[['No Sciper','ww_x_PERIODE_PEDAGO','SpeName']].groupby(['SpeName','No Sciper'])"
   ]
  },
  {
   "cell_type": "code",
   "execution_count": 31,
   "metadata": {
    "collapsed": false
   },
   "outputs": [
    {
     "name": "stdout",
     "output_type": "stream",
     "text": [
      "For specialization : Internet computing\n",
      "number of students: 11\n",
      "average number of months: 28.363636\n",
      "\n",
      "For specialization : Foundations of Software\n",
      "number of students: 7\n",
      "average number of months: 30.857143\n",
      "\n",
      "For specialization : Signals, Images and Interfaces\n",
      "number of students: 2\n",
      "average number of months: 33.000000\n",
      "\n",
      "For specialization : Biocomputing\n",
      "number of students: 1\n",
      "average number of months: 36.000000\n",
      "\n",
      "For specialization : Service science\n",
      "number of students: 1\n",
      "average number of months: 30.000000\n",
      "\n",
      "For specialization : Information Security - SP\n",
      "number of students: 2\n",
      "average number of months: 30.000000\n",
      "\n",
      "For specialization : Software Systems\n",
      "number of students: 2\n",
      "average number of months: 30.000000\n",
      "\n",
      "For specialization : Computer Engineering - SP\n",
      "number of students: 2\n",
      "average number of months: 30.000000\n",
      "\n",
      "\n"
     ]
    },
    {
     "data": {
      "image/png": "[encoded data removed]",
      "text/plain": [
       "<matplotlib.figure.Figure at 0x1192dc588>"
      ]
     },
     "metadata": {},
     "output_type": "display_data"
    }
   ],
   "source": [
    "data = {\n",
    "    'names':[],\n",
    "    'averages':[]\n",
    "}\n",
    "\n",
    "for speName in df_master_filtered['Spécialisation'].unique()[1:]:\n",
    "    data['names'].append(speName)\n",
    "    data['averages'].append(df_master_grouped_with_spe.size()[speName].mean()*6)\n",
    "    print('For specialization : %s' % speName)\n",
    "    print('number of students: %d' % (df_master_grouped_with_spe.size()[speName].count()))\n",
    "    print('average number of months: %f' % (df_master_grouped_with_spe.size()[speName].mean()*6))\n",
    "    print()\n",
    "    \n",
    "sns.barplot(x='names', y='averages', data=pd.DataFrame(data))\n",
    "plt.xticks(rotation=75)\n",
    "print()"
   ]
  },
  {
   "cell_type": "markdown",
   "metadata": {},
   "source": [
    "## Question 3 (BONUS)\n",
    "Please read if you want to give us more points :-) "
   ]
  },
  {
   "cell_type": "markdown",
   "metadata": {},
   "source": [
    "### Computation of average master durations (in months)\n",
    "\n",
    "We observe that female student have a lower average number of months, but the size of our data is not sufficient to prove the significance of our result."
   ]
  },
  {
   "cell_type": "code",
   "execution_count": 32,
   "metadata": {
    "collapsed": false
   },
   "outputs": [
    {
     "name": "stdout",
     "output_type": "stream",
     "text": [
      "number of F: 13\n",
      "number of M: 101\n",
      "F avg number of months: 24.923077\n",
      "M avg number of months: 25.663366\n"
     ]
    }
   ],
   "source": [
    "df_master_grouped = df_master_filtered[['Civilité','No Sciper','ww_x_PERIODE_PEDAGO']].groupby(['Civilité','No Sciper'])\n",
    "print('number of F: %d' % (df_master_grouped.size()['Madame'].count()))\n",
    "print('number of M: %d' % (df_master_grouped.size()['Monsieur'].count()))\n",
    "print('F avg number of months: %f' % (df_master_grouped.size()['Madame'].mean()*6))\n",
    "print('M avg number of months: %f' % (df_master_grouped.size()['Monsieur'].mean()*6))"
   ]
  },
  {
   "cell_type": "code",
   "execution_count": 33,
   "metadata": {
    "collapsed": false
   },
   "outputs": [
    {
     "data": {
      "text/plain": [
       "<matplotlib.axes._subplots.AxesSubplot at 0x1192dc2b0>"
      ]
     },
     "execution_count": 33,
     "metadata": {},
     "output_type": "execute_result"
    },
    {
     "data": {
      "image/png": "[encoded data removed]",
      "text/plain": [
       "<matplotlib.figure.Figure at 0x119323e10>"
      ]
     },
     "metadata": {},
     "output_type": "display_data"
    }
   ],
   "source": [
    "sns.barplot(x='sex', y='mean', data=pd.DataFrame({\n",
    "    \"sex\": [\"Madame\",\"Monsieur\"],\n",
    "    \"mean\": [df_master_grouped.size()['Madame'].mean()*6,df_master_grouped.size()['Monsieur'].mean()*6]\n",
    "}))"
   ]
  },
  {
   "cell_type": "markdown",
   "metadata": {},
   "source": [
    "### Statistical significance\n",
    "\n",
    "We compute the statistical difference between Female and Male average number of months. For that, we use a t-test: This is a two-sided test for the null hypothesis. It shows if two independent samples have identical average expected values. We see that the pvalue = 0.69 (> 0.05), meaning that we cannot reject the null hypothesis."
   ]
  },
  {
   "cell_type": "code",
   "execution_count": 34,
   "metadata": {
    "collapsed": false
   },
   "outputs": [
    {
     "data": {
      "text/plain": [
       "Ttest_indResult(statistic=-0.39806237735379579, pvalue=0.69134195843335544)"
      ]
     },
     "execution_count": 34,
     "metadata": {},
     "output_type": "execute_result"
    }
   ],
   "source": [
    "f = [6*x for x in df_master_grouped.size()['Madame'].tolist()]\n",
    "m = [6*x for x in df_master_grouped.size()['Monsieur'].tolist()]\n",
    "ttest_ind(f, m)"
   ]
  }
 ],
 "metadata": {
  "anaconda-cloud": {},
  "kernelspec": {
   "display_name": "Python [Root]",
   "language": "python",
   "name": "Python [Root]"
  },
  "language_info": {
   "codemirror_mode": {
    "name": "ipython",
    "version": 3
   },
   "file_extension": ".py",
   "mimetype": "text/x-python",
   "name": "python",
   "nbconvert_exporter": "python",
   "pygments_lexer": "ipython3",
   "version": "3.5.2"
  }
 },
 "nbformat": 4,
 "nbformat_minor": 0
}
