{
 "cells": [
  {
   "cell_type": "markdown",
   "metadata": {},
   "source": [
    "# ADA - Homework 4"
   ]
  },
  {
   "cell_type": "code",
   "execution_count": 16,
   "metadata": {
    "collapsed": false
   },
   "outputs": [],
   "source": [
    "import pandas as pd\n",
    "import numpy as np\n",
    "import matplotlib.pyplot as plt\n",
    "from sklearn.model_selection import train_test_split\n",
    "from sklearn.ensemble import RandomForestClassifier\n",
    "from sklearn.metrics import accuracy_score, silhouette_score\n",
    "from sklearn.model_selection import cross_val_score, learning_curve\n",
    "from sklearn import preprocessing\n",
    "from sklearn.cluster import KMeans\n",
    "import random\n",
    "\n",
    "%matplotlib inline"
   ]
  },
  {
   "cell_type": "markdown",
   "metadata": {},
   "source": [
    "# Loading data"
   ]
  },
  {
   "cell_type": "code",
   "execution_count": 2,
   "metadata": {
    "collapsed": false
   },
   "outputs": [],
   "source": [
    "df = pd.read_csv('data/CrowdstormingDataJuly1st.csv')"
   ]
  },
  {
   "cell_type": "markdown",
   "metadata": {},
   "source": [
    "# 0) Cleaning / Aggregating data\n",
    "\n",
    "First, we drop the rows with no skin color ratings."
   ]
  },
  {
   "cell_type": "code",
   "execution_count": 3,
   "metadata": {
    "collapsed": false
   },
   "outputs": [],
   "source": [
    "df = df.dropna(subset=['rater1', 'rater2'])"
   ]
  },
  {
   "cell_type": "markdown",
   "metadata": {},
   "source": [
    "Then, we aggregate the dataframe by player.\n",
    "\n",
    "- We keep the first values for the columns `playerShort`, `height`, `weight`, `club` and `leagueCountry`.\n",
    "- We sum the number of `games`.\n",
    "- We compute the ratio of `victories`, `defeats`, `ties`, `goals`, `yellowCards` and `redCards` per game.\n",
    "- We take the mean of the `rater1` and `rater2` means to create a new feature named `skinColor`. "
   ]
  },
  {
   "cell_type": "code",
   "execution_count": 4,
   "metadata": {
    "collapsed": true
   },
   "outputs": [],
   "source": [
    "def aggregate(x):\n",
    "    return pd.DataFrame({\n",
    "        'playerShort': x.playerShort,\n",
    "        'height': x.height,\n",
    "        'weight': x.weight,\n",
    "        'club': x.club,\n",
    "        'leagueCountry': x.leagueCountry,\n",
    "        'games': x.games.sum(),\n",
    "        'victories': x.victories.sum() / x.games.sum(),\n",
    "        'defeats': x.defeats.sum() / x.games.sum(),\n",
    "        'ties': x.ties.sum() / x.games.sum(),\n",
    "        'goals': x.goals.sum() / x.games.sum(),\n",
    "        'yellowCards': x.yellowCards.sum() / x.games.sum(),\n",
    "        'yellowReds': x.yellowReds.sum() / x.games.sum(),\n",
    "        'redCards': x.redCards.sum() / x.games.sum(),\n",
    "        'skinColor': (x.rater1.mean() + x.rater2.mean()) / 2\n",
    "    })"
   ]
  },
  {
   "cell_type": "code",
   "execution_count": 5,
   "metadata": {
    "collapsed": false
   },
   "outputs": [],
   "source": [
    "agg_df = df.groupby('playerShort').apply(aggregate).drop_duplicates(subset='playerShort', keep='first').reset_index(drop=True)"
   ]
  },
  {
   "cell_type": "markdown",
   "metadata": {},
   "source": [
    "- To deal with the missing values in the columns `height` and `weight`, we fill the rows with the median value.\n",
    "- As our goal is to fit a `RandomForestClassifier` with the data, we convert the categorical features to integers with a `LabelEncoder` per feature.\n",
    "- We drop the `playerShort` column as we already use it to aggregate the dataframe.\n",
    "- We binarize the `skinColor` column."
   ]
  },
  {
   "cell_type": "code",
   "execution_count": 6,
   "metadata": {
    "collapsed": true
   },
   "outputs": [],
   "source": [
    "def process_df(df, categorical_features):\n",
    "    df['height'] = df['height'].fillna(value=df['height'].median())\n",
    "    df['weight'] = df['weight'].fillna(value=df['weight'].median())\n",
    "    \n",
    "    for feature in categorical_features:\n",
    "        le = preprocessing.LabelEncoder()\n",
    "        le.fit(df[feature])\n",
    "        df[feature] = le.transform(df[feature])\n",
    "        \n",
    "    df = df.drop(['playerShort'], axis=1)\n",
    "    \n",
    "    df['skinColor'] = df['skinColor'].apply(lambda x: x >= 0.5)\n",
    "    \n",
    "    return df"
   ]
  },
  {
   "cell_type": "code",
   "execution_count": 7,
   "metadata": {
    "collapsed": false
   },
   "outputs": [],
   "source": [
    "agg_df = process_df(agg_df, ['club', 'leagueCountry'])"
   ]
  },
  {
   "cell_type": "markdown",
   "metadata": {},
   "source": [
    "# 1) Classification\n",
    "\n",
    "First, we need to get the output column that we want to predict (here, `skinColor`)."
   ]
  },
  {
   "cell_type": "code",
   "execution_count": 8,
   "metadata": {
    "collapsed": false
   },
   "outputs": [],
   "source": [
    "y = agg_df.pop('skinColor')"
   ]
  },
  {
   "cell_type": "markdown",
   "metadata": {},
   "source": [
    "Then, we initialize our classifier and validate it with a 20-fold cross validation on two sets of paramters of the `sklearn.RandomForestClassifier`: `n_estimator` and `max_depth`."
   ]
  },
  {
   "cell_type": "code",
   "execution_count": 9,
   "metadata": {
    "collapsed": false
   },
   "outputs": [],
   "source": [
    "def getRandomForestClassifier(key,p):\n",
    "    if key=='n_estimator':\n",
    "        return RandomForestClassifier(n_estimators=p)\n",
    "    if key=='max_depth':\n",
    "        return RandomForestClassifier(max_depth=p)\n",
    "\n",
    "def cross_validate_model(X, y):\n",
    "    parameters = {\n",
    "        'n_estimator': [5,10,20,50,75,100,125],\n",
    "        'max_depth': [5,10,15,20,30,40]\n",
    "    }\n",
    "    \n",
    "    for key in parameters:\n",
    "        scores={}\n",
    "        scores[key]={'mean':[],'std':[]}\n",
    "        for p in parameters[key]:\n",
    "            clf = getRandomForestClassifier(key,p)\n",
    "            s = cross_val_score(clf, agg_df, y, cv=20)\n",
    "            scores[key]['mean'].append(s.mean())\n",
    "            scores[key]['std'].append(s.std())\n",
    "\n",
    "        scores[key]['mean'] = np.array(scores[key]['mean'])\n",
    "        scores[key]['std'] = np.array(scores[key]['std'])\n",
    "\n",
    "        plt.figure()\n",
    "        plt.title(\"RandomForestClassifier, \"+key)\n",
    "        plt.xlabel(key)\n",
    "        plt.ylabel(\"Accuracy score\")\n",
    "        plt.grid()\n",
    "        plt.fill_between(parameters[key], scores[key]['mean'] - scores[key]['std'],\n",
    "                         scores[key]['mean'] + scores[key]['std'], alpha=0.1, color=\"g\")\n",
    "        plt.plot(parameters[key], scores[key]['mean'], 'o-', color=\"g\",\n",
    "                 label=\"Cross-validation score\")\n",
    "\n",
    "        plt.legend(loc=\"best\")\n",
    "\n",
    "        plt.show()"
   ]
  },
  {
   "cell_type": "code",
   "execution_count": 10,
   "metadata": {
    "collapsed": false
   },
   "outputs": [
    {
     "data": {
      "image/png": "[encoded data removed]",
      "text/plain": [
       "<matplotlib.figure.Figure at 0x109426a58>"
      ]
     },
     "metadata": {},
     "output_type": "display_data"
    },
    {
     "data": {
      "image/png": "[encoded data removed]",
      "text/plain": [
       "<matplotlib.figure.Figure at 0x117879f98>"
      ]
     },
     "metadata": {},
     "output_type": "display_data"
    }
   ],
   "source": [
    "cross_validate_model(agg_df, y)"
   ]
  },
  {
   "cell_type": "markdown",
   "metadata": {},
   "source": [
    "We compute the `feature_importance` for our model "
   ]
  },
  {
   "cell_type": "code",
   "execution_count": 11,
   "metadata": {
    "collapsed": true
   },
   "outputs": [],
   "source": [
    "def show_features_ranking(X, y):\n",
    "    clf = RandomForestClassifier(n_estimators=50,max_depth=5)\n",
    "    X_train, X_test, y_train, y_test = train_test_split(X, y, test_size=0.2)\n",
    "    clf.fit(X_train, y_train)\n",
    "\n",
    "    importances = clf.feature_importances_\n",
    "    std = np.std([tree.feature_importances_ for tree in clf.estimators_], axis=0)\n",
    "    indices = np.argsort(importances)[::-1]\n",
    "\n",
    "    # Print the feature ranking\n",
    "    print(\"Feature ranking:\")\n",
    "\n",
    "    for f in range(X.shape[1]):\n",
    "        print(\"%d. %s (%f)\" % (f + 1, X.columns[f], importances[indices[f]]))"
   ]
  },
  {
   "cell_type": "code",
   "execution_count": 12,
   "metadata": {
    "collapsed": false
   },
   "outputs": [
    {
     "name": "stdout",
     "output_type": "stream",
     "text": [
      "Feature ranking:\n",
      "1. club (0.271409)\n",
      "2. defeats (0.114060)\n",
      "3. games (0.095749)\n",
      "4. goals (0.071234)\n",
      "5. height (0.065073)\n",
      "6. leagueCountry (0.063759)\n",
      "7. redCards (0.062336)\n",
      "8. ties (0.061673)\n",
      "9. victories (0.058355)\n",
      "10. weight (0.057145)\n",
      "11. yellowCards (0.046734)\n",
      "12. yellowReds (0.032473)\n"
     ]
    }
   ],
   "source": [
    "show_features_ranking(agg_df, y)"
   ]
  },
  {
   "cell_type": "markdown",
   "metadata": {},
   "source": [
    "We compute the feature importance again after droping the less important features. We do not observe significant changes in the `feature_importance_`"
   ]
  },
  {
   "cell_type": "code",
   "execution_count": 13,
   "metadata": {
    "collapsed": false
   },
   "outputs": [
    {
     "name": "stdout",
     "output_type": "stream",
     "text": [
      "Feature ranking:\n",
      "1. club (0.225935)\n",
      "2. defeats (0.138681)\n",
      "3. games (0.138206)\n",
      "4. goals (0.127478)\n",
      "5. height (0.108802)\n",
      "6. leagueCountry (0.097340)\n",
      "7. redCards (0.082899)\n",
      "8. ties (0.080660)\n"
     ]
    }
   ],
   "source": [
    "show_features_ranking(agg_df.drop(['yellowReds','yellowCards','weight','victories'],axis=1), y)"
   ]
  },
  {
   "cell_type": "markdown",
   "metadata": {},
   "source": [
    "# 2) Clustering\n",
    "\n",
    "In this section we apply the unsupervised clustering algorithm KMeans to classify the players in two clusters based on the aggregated data from the list of games. Our goal is to see if certain selection of feature will give us a high silhouette and give us two cluster that separate black and white players"
   ]
  },
  {
   "cell_type": "code",
   "execution_count": 14,
   "metadata": {
    "collapsed": false
   },
   "outputs": [],
   "source": [
    "def clustering(X):\n",
    "    kmeans = KMeans(n_clusters=2, random_state=0)\n",
    "    kmeans.fit(X)\n",
    "    labels = kmeans.labels_\n",
    "    \n",
    "    # we set our accuracy measure the percentage of players in the correct cluster, by supposing that either \n",
    "    # cluster 0 is for black and 1 is for white or the opposite\n",
    "    accuracy = max((labels == y).sum()/len(y), 1-(labels == y).sum()/len(y))\n",
    "    silhouette = silhouette_score(X, labels, metric=\"euclidean\")\n",
    "    \n",
    "    \n",
    "    return silhouette, accuracy "
   ]
  },
  {
   "cell_type": "code",
   "execution_count": 17,
   "metadata": {
    "collapsed": false
   },
   "outputs": [
    {
     "name": "stdout",
     "output_type": "stream",
     "text": [
      "Silhouette score = 0.556910\n",
      "Accuracy = 0.571609\n"
     ]
    }
   ],
   "source": [
    "silhouette, accuracy = clustering(agg_df)\n",
    "\n",
    "print(\"Silhouette score = %f\" % silhouette)\n",
    "print(\"Accuracy = %f\" % accuracy)"
   ]
  },
  {
   "cell_type": "markdown",
   "metadata": {},
   "source": [
    "Now, let's remove one feature at a time and see the evolution of our two scores"
   ]
  },
  {
   "cell_type": "code",
   "execution_count": 18,
   "metadata": {
    "collapsed": false
   },
   "outputs": [
    {
     "data": {
      "text/plain": [
       "Index(['club', 'defeats', 'games', 'goals', 'height', 'leagueCountry',\n",
       "       'redCards', 'ties', 'victories', 'weight', 'yellowCards', 'yellowReds'],\n",
       "      dtype='object')"
      ]
     },
     "execution_count": 18,
     "metadata": {},
     "output_type": "execute_result"
    }
   ],
   "source": [
    "agg_df.columns"
   ]
  },
  {
   "cell_type": "code",
   "execution_count": 19,
   "metadata": {
    "collapsed": false
   },
   "outputs": [],
   "source": [
    "def feature_removal(X):\n",
    "    dic_sil = {}\n",
    "    dic_acc = {}\n",
    "    removed_columns = []\n",
    "    \n",
    "    for iteration in range(6):\n",
    "        max_sil = 0\n",
    "        best_col = X.columns[0]\n",
    "        \n",
    "        # we want to find the best column to remove which we select by trying to maximise the silhouette\n",
    "        for column in X.columns:\n",
    "            sil, acc = clustering(X.drop(column, axis=1))\n",
    "            if sil > max_sil:\n",
    "                max_sil=sil\n",
    "                best_col = column\n",
    "        \n",
    "        X.drop(best_col, axis=1, inplace=True)\n",
    "        dic_sil[best_col], dic_acc[best_col] = clustering(X)\n",
    "        removed_columns.append(best_col)\n",
    "        \n",
    "    return dic_sil, dic_acc, removed_columns\n",
    "\n",
    "def plot_feature_removal_evolution(dic_sil, dic_acc):\n",
    "    x = np.arange(len(dic_sil))\n",
    "    labels = list(dic_sil.keys())\n",
    "    col_width = 0.35\n",
    "    \n",
    "    fig = plt.figure(figsize=(15, 4))\n",
    "    plt.xlabel(\"Feature removed\")\n",
    "    plt.ylabel(\"Scores\")\n",
    "    \n",
    "    ax = fig.add_subplot(111)\n",
    "    ax.set_title(\"Scores evolution after iterative features removal\")\n",
    "    ax.set_xticks(x + col_width)\n",
    "    x_tick_names = ax.set_xticklabels(dic_sil.keys())\n",
    "    plt.setp(x_tick_names, rotation=45, fontsize=10)\n",
    "    \n",
    "    plt.bar(x, dic_sil.values(), col_width ,color='b', label='Silhouette score')\n",
    "    plt.bar(x + col_width, dic_acc.values(), col_width, color='g', label='Accuracy score')\n",
    "    \n",
    "    plt.legend(loc=\"best\")\n",
    "    \n",
    "    plt.show()   "
   ]
  },
  {
   "cell_type": "code",
   "execution_count": 20,
   "metadata": {
    "collapsed": false
   },
   "outputs": [
    {
     "data": {
      "text/plain": [
       "['club', 'weight', 'height', 'games', 'goals', 'victories']"
      ]
     },
     "execution_count": 20,
     "metadata": {},
     "output_type": "execute_result"
    }
   ],
   "source": [
    "dic_sil, dic_acc, removed_columns = feature_removal(agg_df.copy())\n",
    "removed_columns"
   ]
  },
  {
   "cell_type": "code",
   "execution_count": 21,
   "metadata": {
    "collapsed": false
   },
   "outputs": [
    {
     "data": {
      "image/png": "[encoded data removed]",
      "text/plain": [
       "<matplotlib.figure.Figure at 0x119f765c0>"
      ]
     },
     "metadata": {},
     "output_type": "display_data"
    }
   ],
   "source": [
    "plot_feature_removal_evolution(dic_sil, dic_acc)"
   ]
  },
  {
   "cell_type": "markdown",
   "metadata": {
    "collapsed": true
   },
   "source": [
    "We can observe that after removing the sixth column `victories`, we have a silhouette of 0.7 and an accuracy of 0.65 which is close to what we obtain in question 1."
   ]
  }
 ],
 "metadata": {
  "anaconda-cloud": {},
  "kernelspec": {
   "display_name": "Python [Root]",
   "language": "python",
   "name": "Python [Root]"
  },
  "language_info": {
   "codemirror_mode": {
    "name": "ipython",
    "version": 3
   },
   "file_extension": ".py",
   "mimetype": "text/x-python",
   "name": "python",
   "nbconvert_exporter": "python",
   "pygments_lexer": "ipython3",
   "version": "3.5.2"
  }
 },
 "nbformat": 4,
 "nbformat_minor": 0
}
